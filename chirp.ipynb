{
 "cells": [
  {
   "cell_type": "code",
   "execution_count": 1,
   "metadata": {},
   "outputs": [],
   "source": [
    "import matplotlib\n",
    "import numpy as np\n",
    "import matplotlib.pyplot as plt\n",
    "%matplotlib inline  \n",
    "from eppy import modeleditor\n",
    "from eppy.modeleditor import IDF"
   ]
  },
  {
   "cell_type": "code",
   "execution_count": 33,
   "metadata": {},
   "outputs": [
    {
     "name": "stdout",
     "output_type": "stream",
     "text": [
      "EnergyPlus Starting\n",
      "EnergyPlus, Version 8.9.0-40101eaafd, YMD=2018.08.16 00:35\n",
      "Adjusting Air System Sizing\n",
      "Adjusting Standard 62.1 Ventilation Sizing\n",
      "Initializing Simulation\n",
      "Reporting Surfaces\n",
      "Beginning Primary Simulation\n",
      "Initializing New Environment Parameters\n",
      "Warming up {1}\n",
      "Starting Simulation at 12/21 for DENVER_STAPLETON ANN HTG 99.6% CONDNS DB\n",
      "Initializing New Environment Parameters\n",
      "Warming up {1}\n",
      "Starting Simulation at 07/21 for DENVER_STAPLETON ANN CLG .4% CONDNS DB=>MWB\n",
      "Writing tabular output file results using HTML format.\n",
      "\n"
     ]
    }
   ],
   "source": [
    "eplus_file = \"/home/pepa/Downloads/EnergyPlus/testfiles/Minimal.idf\"\n",
    "weather_file = \"/home/pepa/Downloads/epwFile.epw\"\n",
    "\n",
    "import subprocess\n",
    "\n",
    "eplus_path = '/usr/local/bin/energyplus'\n",
    "#eplus_file = '5ZoneAirCooled.idf'\n",
    "#weather_file = 'USA_CO_Golden-NREL.724666_TMY3.epw'\n",
    "\n",
    "df = subprocess.Popen([eplus_path, \"-w\", weather_file, eplus_file], stdout=subprocess.PIPE)        \n",
    "output, err = df.communicate()\n",
    "print(output.decode('utf-8'))\n",
    "if not err is None:\n",
    "    print(err.decode('utf-8'))"
   ]
  },
  {
   "cell_type": "code",
   "execution_count": null,
   "metadata": {},
   "outputs": [],
   "source": []
  }
 ],
 "metadata": {
  "kernelspec": {
   "display_name": "Python 3",
   "language": "python",
   "name": "python3"
  },
  "language_info": {
   "codemirror_mode": {
    "name": "ipython",
    "version": 3
   },
   "file_extension": ".py",
   "mimetype": "text/x-python",
   "name": "python",
   "nbconvert_exporter": "python",
   "pygments_lexer": "ipython3",
   "version": "3.5.2"
  }
 },
 "nbformat": 4,
 "nbformat_minor": 2
}
